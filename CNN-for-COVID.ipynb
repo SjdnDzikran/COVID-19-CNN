{
  "nbformat": 4,
  "nbformat_minor": 0,
  "metadata": {
    "colab": {
      "provenance": [],
      "gpuType": "T4"
    },
    "kernelspec": {
      "name": "python3",
      "display_name": "Python 3"
    },
    "language_info": {
      "name": "python"
    },
    "accelerator": "GPU"
  },
  "cells": [
    {
      "cell_type": "markdown",
      "source": [
        "# Step 1: Imports and Environment Setup\n",
        "This first block imports all the necessary libraries we'll need throughout the project (TensorFlow, Keras, OS utilities, plotting tools, etc.) and verifies the TensorFlow version."
      ],
      "metadata": {
        "id": "rvDdj2hYOslL"
      }
    },
    {
      "cell_type": "code",
      "execution_count": 2,
      "metadata": {
        "colab": {
          "base_uri": "https://localhost:8080/"
        },
        "id": "XeAGjb3LOe5C",
        "outputId": "0a989327-7e5d-460d-db9f-7a7c3050cc45"
      },
      "outputs": [
        {
          "output_type": "stream",
          "name": "stdout",
          "text": [
            "TensorFlow Version: 2.18.0\n",
            "GPU available: [PhysicalDevice(name='/physical_device:GPU:0', device_type='GPU')]\n",
            "GPU memory growth configured.\n",
            "\n",
            "Setup Complete. Libraries imported.\n"
          ]
        }
      ],
      "source": [
        "# Block 1: Imports and Setup\n",
        "import tensorflow as tf\n",
        "from tensorflow import keras\n",
        "from tensorflow.keras.models import Sequential\n",
        "from tensorflow.keras.layers import Conv2D, MaxPooling2D, Flatten, Dense, Dropout, BatchNormalization\n",
        "from tensorflow.keras.preprocessing.image import ImageDataGenerator\n",
        "from tensorflow.keras.callbacks import EarlyStopping, ReduceLROnPlateau\n",
        "\n",
        "import os\n",
        "import zipfile\n",
        "import requests # For downloading\n",
        "import shutil   # For potential directory adjustments\n",
        "import numpy as np\n",
        "import matplotlib.pyplot as plt\n",
        "\n",
        "# Check TensorFlow version\n",
        "print(\"TensorFlow Version:\", tf.__version__)\n",
        "\n",
        "# Check if GPU is available (Optional but good practice in Colab)\n",
        "gpu_devices = tf.config.list_physical_devices('GPU')\n",
        "if gpu_devices:\n",
        "    print(f\"GPU available: {gpu_devices}\")\n",
        "    # Optional: Configure GPU memory growth to avoid allocating all memory at once\n",
        "    try:\n",
        "        for gpu in gpu_devices:\n",
        "            tf.config.experimental.set_memory_growth(gpu, True)\n",
        "        print(\"GPU memory growth configured.\")\n",
        "    except RuntimeError as e:\n",
        "        print(f\"Could not set memory growth: {e}\")\n",
        "else:\n",
        "    print(\"GPU not available, running on CPU.\")\n",
        "\n",
        "print(\"\\nSetup Complete. Libraries imported.\")"
      ]
    },
    {
      "cell_type": "markdown",
      "source": [
        "# Step 2: Define Constants and Configuration\n",
        "This block sets up important configuration parameters for image processing and model training.\n"
      ],
      "metadata": {
        "id": "0ay236xxPc19"
      }
    },
    {
      "cell_type": "code",
      "source": [
        "# Block 2: Define Configuration Parameters\n",
        "import os # Keep os import if not already run in block 1\n",
        "\n",
        "# Image parameters\n",
        "IMG_HEIGHT = 150 # Target image height in pixels\n",
        "IMG_WIDTH = 150  # Target image width in pixels\n",
        "CHANNELS = 3     # Number of color channels (usually 3 for CNNs, even if input is grayscale)\n",
        "\n",
        "# Training parameters\n",
        "BATCH_SIZE = 32  # Number of images processed in each batch during training\n",
        "EPOCHS = 50      # Maximum number of training cycles (can be stopped early by callbacks)\n",
        "NUM_CLASSES = 2  # We have two classes: Positif and Negatif\n",
        "\n",
        "print(\"--- Configuration ---\")\n",
        "print(f\"Target Image Size: ({IMG_HEIGHT}, {IMG_WIDTH}, {CHANNELS})\")\n",
        "print(f\"Batch Size: {BATCH_SIZE}\")\n",
        "print(f\"Max Epochs: {EPOCHS}\")\n",
        "print(f\"Number of Classes: {NUM_CLASSES}\")"
      ],
      "metadata": {
        "colab": {
          "base_uri": "https://localhost:8080/"
        },
        "id": "uFeHRNgKPfXd",
        "outputId": "864c726a-b805-4f2a-9c04-ce2be391c60c"
      },
      "execution_count": 3,
      "outputs": [
        {
          "output_type": "stream",
          "name": "stdout",
          "text": [
            "--- Configuration ---\n",
            "Target Image Size: (150, 150, 3)\n",
            "Batch Size: 32\n",
            "Max Epochs: 50\n",
            "Number of Classes: 2\n"
          ]
        }
      ]
    },
    {
      "cell_type": "markdown",
      "source": [
        "# Step 3: Mount Google Drive and Define Data Paths\n",
        "This block connects your Google Drive, defines the specific path to your COVID-19 dataset folder based on the location you provided, and sets up paths for creating the train/test split in the Colab environment."
      ],
      "metadata": {
        "id": "Fm1LuxkSnwtT"
      }
    },
    {
      "cell_type": "code",
      "source": [
        "# Block 3: Mount Google Drive and Define Data Paths\n",
        "\n",
        "from google.colab import drive\n",
        "import os\n",
        "import shutil # Will be used in the next step\n",
        "\n",
        "# Mount Google Drive - You'll likely need to authorize this\n",
        "drive.mount('/content/drive')\n",
        "\n",
        "# --- Path to your dataset folder within Google Drive ---\n",
        "# Updated based on your provided location:\n",
        "GOOGLE_DRIVE_DATASET_PATH = '/content/drive/MyDrive/Semester 4/2402 - Computer Vision and Image Analysis/Tugas 2/COVID-19' # <--- Specific path provided by user\n",
        "\n",
        "# --- Paths for the train/test split we will create in Colab's temporary storage ---\n",
        "BASE_SPLIT_DIR = '/content/covid_data_split' # Directory for split data in Colab\n",
        "TRAIN_DIR = os.path.join(BASE_SPLIT_DIR, 'train')\n",
        "TEST_DIR = os.path.join(BASE_SPLIT_DIR, 'test')\n",
        "\n",
        "# Class names (MUST match the folder names inside the GOOGLE_DRIVE_DATASET_PATH folder EXACTLY)\n",
        "CLASS_NAMES = ['Negatif', 'Positif'] # Based on user info\n",
        "\n",
        "# --- Verify the Google Drive path ---\n",
        "print(\"--- Verifying Google Drive Path ---\")\n",
        "if not os.path.exists(GOOGLE_DRIVE_DATASET_PATH):\n",
        "    print(f\"ERROR: The specified Google Drive path does not exist:\")\n",
        "    print(f\"'{GOOGLE_DRIVE_DATASET_PATH}'\")\n",
        "    print(\"Please double-check the path and ensure Drive is mounted correctly.\")\n",
        "    # Optional: list contents of parent directory to help find it\n",
        "    parent_dir = os.path.dirname(GOOGLE_DRIVE_DATASET_PATH)\n",
        "    print(f\"\\nAttempting to list contents of parent directory: {parent_dir}\")\n",
        "    try:\n",
        "        for item in os.listdir(parent_dir):\n",
        "            print(f\"- {item}\")\n",
        "    except FileNotFoundError:\n",
        "        print(f\"Could not list parent directory contents. Path issue likely earlier.\")\n",
        "    except Exception as e:\n",
        "         print(f\"Error listing parent directory: {e}\")\n",
        "\n",
        "else:\n",
        "    print(f\"Google Drive Path found: {GOOGLE_DRIVE_DATASET_PATH}\")\n",
        "    print(\"\\nContents of the dataset folder:\")\n",
        "    found_classes = []\n",
        "    try:\n",
        "        for item in os.listdir(GOOGLE_DRIVE_DATASET_PATH):\n",
        "            item_path = os.path.join(GOOGLE_DRIVE_DATASET_PATH, item)\n",
        "            if os.path.isdir(item_path):\n",
        "                 print(f\"- {item} (Directory)\")\n",
        "                 found_classes.append(item)\n",
        "            else:\n",
        "                 print(f\"- {item} (File)\") # Should show source.txt here\n",
        "\n",
        "        # Check if found directories match expected CLASS_NAMES\n",
        "        if sorted(found_classes) == sorted(CLASS_NAMES):\n",
        "            print(\"\\nFound directories match expected CLASS_NAMES.\")\n",
        "        else:\n",
        "            print(f\"\\nWARNING: Found directories {found_classes} do not exactly match expected CLASS_NAMES {CLASS_NAMES}.\")\n",
        "            print(\"Check spelling and capitalization in the CLASS_NAMES list and your actual folder names.\")\n",
        "\n",
        "    except Exception as e:\n",
        "        print(f\"Could not list contents of dataset folder: {e}\")\n",
        "\n",
        "\n",
        "# --- Report final paths for Colab environment ---\n",
        "print(f\"\\nTrain directory will be created at: {TRAIN_DIR}\")\n",
        "print(f\"Test directory will be created at: {TEST_DIR}\")"
      ],
      "metadata": {
        "colab": {
          "base_uri": "https://localhost:8080/"
        },
        "id": "OS5BEGJ2QjZN",
        "outputId": "74f34cc0-cce9-4cd0-c38c-44abde80634f"
      },
      "execution_count": 4,
      "outputs": [
        {
          "output_type": "stream",
          "name": "stdout",
          "text": [
            "Mounted at /content/drive\n",
            "--- Verifying Google Drive Path ---\n",
            "Google Drive Path found: /content/drive/MyDrive/Semester 4/2402 - Computer Vision and Image Analysis/Tugas 2/COVID-19\n",
            "\n",
            "Contents of the dataset folder:\n",
            "- Sources.txt (File)\n",
            "- Negatif (Directory)\n",
            "- Positif (Directory)\n",
            "\n",
            "Found directories match expected CLASS_NAMES.\n",
            "\n",
            "Train directory will be created at: /content/covid_data_split/train\n",
            "Test directory will be created at: /content/covid_data_split/test\n"
          ]
        }
      ]
    },
    {
      "cell_type": "markdown",
      "source": [
        "# Step 4: Split Data into Training and Testing Sets\n",
        "This block defines and runs a function to:\n",
        "\n",
        "\n",
        "1.   Create the necessary train and test directories (and their class subdirectories) in the Colab environment.\n",
        "2.   Iterate through the 'Negatif' and 'Positif' folders in your Google Drive dataset.\n",
        "3.   Randomly split the images within each class (e.g., 80% for training, 20% for testing).\n",
        "4.   Copy the files to the corresponding train or test subdirectories we just created in Colab. This avoids constantly reading from Google Drive during training, which can be slow.\n",
        "\n",
        "\n",
        "\n"
      ],
      "metadata": {
        "id": "hlmHfnjLoqLq"
      }
    },
    {
      "cell_type": "code",
      "source": [
        "# Block 4: Split Data into Training and Testing Sets\n",
        "\n",
        "import random\n",
        "import math\n",
        "import glob # To find image files easily\n",
        "\n",
        "def split_data(source_dir, train_dir, test_dir, class_names, split_ratio=0.8):\n",
        "    \"\"\"\n",
        "    Splits data from source directories into training and testing sets.\n",
        "\n",
        "    Args:\n",
        "        source_dir (str): Path to the main dataset directory (e.g., in Google Drive).\n",
        "        train_dir (str): Path to the target training directory (in Colab).\n",
        "        test_dir (str): Path to the target testing directory (in Colab).\n",
        "        class_names (list): List of subdirectories representing classes.\n",
        "        split_ratio (float): Proportion of data to use for training (default 0.8 for 80%).\n",
        "    \"\"\"\n",
        "    print(f\"--- Starting Data Split (Ratio: {split_ratio*100:.0f}% train / {(1-split_ratio)*100:.0f}% test) ---\")\n",
        "\n",
        "    # Remove existing split directories if they exist, for a clean start\n",
        "    if os.path.exists(os.path.dirname(train_dir)): # Checks if BASE_SPLIT_DIR exists\n",
        "        print(f\"Removing existing split directory: {os.path.dirname(train_dir)}\")\n",
        "        shutil.rmtree(os.path.dirname(train_dir))\n",
        "\n",
        "    # Create train and test directories and their class subdirectories\n",
        "    print(\"Creating train/test directory structure...\")\n",
        "    for d in [train_dir, test_dir]:\n",
        "        for class_name in class_names:\n",
        "            os.makedirs(os.path.join(d, class_name), exist_ok=True)\n",
        "            # print(f\"  Created: {os.path.join(d, class_name)}\") # Uncomment for verbose creation log\n",
        "\n",
        "    # Process each class\n",
        "    for class_name in class_names:\n",
        "        print(f\"\\nProcessing class: {class_name}\")\n",
        "        source_class_dir = os.path.join(source_dir, class_name)\n",
        "\n",
        "        # Find all image files (adjust patterns if needed for different extensions)\n",
        "        image_files = []\n",
        "        for ext in [\"*.jpg\", \"*.jpeg\", \"*.png\", \"*.bmp\", \"*.gif\"]: # Add other extensions if necessary\n",
        "             image_files.extend(glob.glob(os.path.join(source_class_dir, ext)))\n",
        "\n",
        "        if not image_files:\n",
        "            print(f\"  Warning: No image files found in {source_class_dir} with specified extensions.\")\n",
        "            continue\n",
        "\n",
        "        print(f\"  Found {len(image_files)} images.\")\n",
        "\n",
        "        # Shuffle the files randomly\n",
        "        random.shuffle(image_files)\n",
        "\n",
        "        # Calculate split point\n",
        "        split_point = math.ceil(len(image_files) * split_ratio) # Use ceil to ensure test set isn't overly small\n",
        "\n",
        "        # Get train and test file lists\n",
        "        train_files = image_files[:split_point]\n",
        "        test_files = image_files[split_point:]\n",
        "\n",
        "        print(f\"  Splitting into {len(train_files)} train and {len(test_files)} test images.\")\n",
        "\n",
        "        # Copy files to train directory\n",
        "        dest_train_class_dir = os.path.join(train_dir, class_name)\n",
        "        for f in train_files:\n",
        "            shutil.copy(f, dest_train_class_dir)\n",
        "\n",
        "        # Copy files to test directory\n",
        "        dest_test_class_dir = os.path.join(test_dir, class_name)\n",
        "        for f in test_files:\n",
        "            shutil.copy(f, dest_test_class_dir)\n",
        "\n",
        "    print(\"\\n--- Data Split Complete ---\")\n",
        "\n",
        "# --- Execute the split ---\n",
        "# Using the paths defined in Block 3\n",
        "split_data(source_dir=GOOGLE_DRIVE_DATASET_PATH,\n",
        "           train_dir=TRAIN_DIR,\n",
        "           test_dir=TEST_DIR,\n",
        "           class_names=CLASS_NAMES,\n",
        "           split_ratio=0.8) # Using an 80/20 split\n",
        "\n",
        "# --- Verify the split by counting files ---\n",
        "print(\"\\n--- Verifying Split Counts ---\")\n",
        "for dir_path in [TRAIN_DIR, TEST_DIR]:\n",
        "    print(f\"Directory: {dir_path}\")\n",
        "    for class_name in CLASS_NAMES:\n",
        "        class_dir = os.path.join(dir_path, class_name)\n",
        "        count = len(os.listdir(class_dir))\n",
        "        print(f\"  Class '{class_name}': {count} images\")"
      ],
      "metadata": {
        "colab": {
          "base_uri": "https://localhost:8080/"
        },
        "id": "LNEQ0sFzR2kr",
        "outputId": "8ac7cff1-edf5-4e7e-dc59-c98421980916"
      },
      "execution_count": 5,
      "outputs": [
        {
          "output_type": "stream",
          "name": "stdout",
          "text": [
            "--- Starting Data Split (Ratio: 80% train / 20% test) ---\n",
            "Creating train/test directory structure...\n",
            "\n",
            "Processing class: Negatif\n",
            "  Found 98 images.\n",
            "  Splitting into 79 train and 19 test images.\n",
            "\n",
            "Processing class: Positif\n",
            "  Found 58 images.\n",
            "  Splitting into 47 train and 11 test images.\n",
            "\n",
            "--- Data Split Complete ---\n",
            "\n",
            "--- Verifying Split Counts ---\n",
            "Directory: /content/covid_data_split/train\n",
            "  Class 'Negatif': 79 images\n",
            "  Class 'Positif': 47 images\n",
            "Directory: /content/covid_data_split/test\n",
            "  Class 'Negatif': 19 images\n",
            "  Class 'Positif': 11 images\n"
          ]
        }
      ]
    },
    {
      "cell_type": "markdown",
      "source": [
        "# Step 5: Prepare Data Generators\n",
        "This block creates ImageDataGenerator instances. The training generator will apply data augmentation techniques on-the-fly, while the test generator will only rescale the images. These generators will read images from the train and test directories we just created."
      ],
      "metadata": {
        "id": "VDlg6UJDpmnA"
      }
    },
    {
      "cell_type": "code",
      "source": [
        "# Block 5: Prepare Data Generators\n",
        "\n",
        "from tensorflow.keras.preprocessing.image import ImageDataGenerator\n",
        "\n",
        "print(\"--- Setting up Data Generators ---\")\n",
        "\n",
        "# --- Training Data Generator with Augmentation ---\n",
        "train_datagen = ImageDataGenerator(\n",
        "    rescale=1./255,            # Normalize pixel values to [0, 1]\n",
        "    rotation_range=20,         # Randomly rotate images by up to 20 degrees\n",
        "    width_shift_range=0.15,    # Randomly shift images horizontally by up to 15% of width\n",
        "    height_shift_range=0.15,   # Randomly shift images vertically by up to 15% of height\n",
        "    shear_range=0.15,          # Apply shear transformations\n",
        "    zoom_range=0.15,           # Randomly zoom in by up to 15%\n",
        "    horizontal_flip=True,      # Randomly flip images horizontally (often okay for chest X-rays)\n",
        "    # vertical_flip=False,     # Usually not appropriate for chest X-rays\n",
        "    fill_mode='nearest'        # How to fill pixels created by shifts/rotations\n",
        ")\n",
        "\n",
        "# --- Testing Data Generator (only rescaling) ---\n",
        "# IMPORTANT: No augmentation for test/validation data!\n",
        "test_datagen = ImageDataGenerator(\n",
        "    rescale=1./255             # Only normalize pixel values\n",
        ")\n",
        "\n",
        "\n",
        "# --- Create Generators from Directories ---\n",
        "print(\"\\nCreating Training Generator...\")\n",
        "train_generator = train_datagen.flow_from_directory(\n",
        "    TRAIN_DIR,                  # Path to training data in Colab env\n",
        "    target_size=(IMG_HEIGHT, IMG_WIDTH), # Resize images to target dimensions\n",
        "    batch_size=BATCH_SIZE,\n",
        "    class_mode='binary',        # For 2 classes (Negatif/Positif) -> outputs 0 or 1\n",
        "    classes=CLASS_NAMES,        # Explicitly set class order if needed (optional here as names match)\n",
        "    shuffle=True                # Shuffle training data each epoch\n",
        ")\n",
        "\n",
        "print(\"\\nCreating Testing Generator...\")\n",
        "test_generator = test_datagen.flow_from_directory(\n",
        "    TEST_DIR,                   # Path to testing data in Colab env\n",
        "    target_size=(IMG_HEIGHT, IMG_WIDTH),\n",
        "    batch_size=BATCH_SIZE,      # Can use same or different batch size for testing\n",
        "    class_mode='binary',\n",
        "    classes=CLASS_NAMES,\n",
        "    shuffle=False               # DO NOT shuffle test data for consistent evaluation\n",
        ")\n",
        "\n",
        "# --- Verify Class Indices ---\n",
        "# Check which label (Negatif/Positif) corresponds to 0 and 1\n",
        "print(\"\\n--- Verification ---\")\n",
        "print(f\"Training Generator - Class Indices: {train_generator.class_indices}\")\n",
        "print(f\"Testing Generator  - Class Indices: {test_generator.class_indices}\")\n",
        "\n",
        "# Calculate steps per epoch for training and validation\n",
        "# Ensure we cover all images, rounding up if necessary\n",
        "train_steps_per_epoch = math.ceil(train_generator.samples / BATCH_SIZE)\n",
        "test_steps_per_epoch = math.ceil(test_generator.samples / BATCH_SIZE)\n",
        "\n",
        "print(f\"Total Training Images: {train_generator.samples}\")\n",
        "print(f\"Total Testing Images: {test_generator.samples}\")\n",
        "print(f\"Training Steps per Epoch: {train_steps_per_epoch}\")\n",
        "print(f\"Testing Steps per Epoch: {test_steps_per_epoch}\")"
      ],
      "metadata": {
        "colab": {
          "base_uri": "https://localhost:8080/"
        },
        "id": "Xt5OvV-1ppC2",
        "outputId": "f2b04f5b-b785-49cf-efef-bdcd7e103ff2"
      },
      "execution_count": 6,
      "outputs": [
        {
          "output_type": "stream",
          "name": "stdout",
          "text": [
            "--- Setting up Data Generators ---\n",
            "\n",
            "Creating Training Generator...\n",
            "Found 126 images belonging to 2 classes.\n",
            "\n",
            "Creating Testing Generator...\n",
            "Found 30 images belonging to 2 classes.\n",
            "\n",
            "--- Verification ---\n",
            "Training Generator - Class Indices: {'Negatif': 0, 'Positif': 1}\n",
            "Testing Generator  - Class Indices: {'Negatif': 0, 'Positif': 1}\n",
            "Total Training Images: 126\n",
            "Total Testing Images: 30\n",
            "Training Steps per Epoch: 4\n",
            "Testing Steps per Epoch: 1\n"
          ]
        }
      ]
    },
    {
      "cell_type": "markdown",
      "source": [
        "# Step 6: Build the CNN Model\n",
        "This block defines the architecture of our CNN using the Keras Sequential API. It stacks Convolutional layers (to extract features), Batch Normalization (to stabilize training), MaxPooling layers (to downsample), and Dense layers (for classification). Dropout is included for regularization."
      ],
      "metadata": {
        "id": "I_K7AgjZp7zk"
      }
    },
    {
      "cell_type": "code",
      "source": [
        "# Block 6: Build the CNN Model\n",
        "\n",
        "from tensorflow.keras.models import Sequential\n",
        "from tensorflow.keras.layers import Conv2D, MaxPooling2D, BatchNormalization, Dropout, Flatten, Dense\n",
        "\n",
        "print(\"--- Building the CNN Model ---\")\n",
        "\n",
        "model = Sequential(name=\"COVID_XRay_Classifier\") # Give the model a name\n",
        "\n",
        "# Input Layer + First Convolutional Block\n",
        "model.add(Conv2D(32, (3, 3), activation='relu', input_shape=(IMG_HEIGHT, IMG_WIDTH, CHANNELS), name='conv1_1'))\n",
        "model.add(BatchNormalization(name='bn1_1'))\n",
        "model.add(MaxPooling2D(pool_size=(2, 2), name='pool1'))\n",
        "# Output shape after pool1: Roughly (IMG_HEIGHT/2, IMG_WIDTH/2, 32)\n",
        "\n",
        "# Second Convolutional Block\n",
        "model.add(Conv2D(64, (3, 3), activation='relu', padding='same', name='conv2_1')) # 'same' padding keeps spatial dims\n",
        "model.add(BatchNormalization(name='bn2_1'))\n",
        "# model.add(Conv2D(64, (3, 3), activation='relu', padding='same', name='conv2_2')) # Optional extra conv layer\n",
        "# model.add(BatchNormalization(name='bn2_2'))\n",
        "model.add(MaxPooling2D(pool_size=(2, 2), name='pool2'))\n",
        "# Output shape after pool2: Roughly (IMG_HEIGHT/4, IMG_WIDTH/4, 64)\n",
        "\n",
        "# Third Convolutional Block\n",
        "model.add(Conv2D(128, (3, 3), activation='relu', padding='same', name='conv3_1'))\n",
        "model.add(BatchNormalization(name='bn3_1'))\n",
        "# model.add(Conv2D(128, (3, 3), activation='relu', padding='same', name='conv3_2')) # Optional extra conv layer\n",
        "# model.add(BatchNormalization(name='bn3_2'))\n",
        "model.add(MaxPooling2D(pool_size=(2, 2), name='pool3'))\n",
        "# Output shape after pool3: Roughly (IMG_HEIGHT/8, IMG_WIDTH/8, 128)\n",
        "\n",
        "# Flattening the feature maps\n",
        "model.add(Flatten(name='flatten'))\n",
        "# Output shape: (IMG_HEIGHT/8 * IMG_WIDTH/8 * 128) neurons\n",
        "\n",
        "# Fully Connected Layers (Dense)\n",
        "model.add(Dense(256, activation='relu', name='dense1')) # Increased capacity Dense layer\n",
        "model.add(BatchNormalization(name='bn_dense1'))         # BN before dropout can sometimes be better\n",
        "model.add(Dropout(0.5, name='dropout1'))                 # Dropout for regularization (0.5 is common)\n",
        "\n",
        "# Output Layer\n",
        "# Single neuron with sigmoid activation for binary classification\n",
        "model.add(Dense(1, activation='sigmoid', name='output'))\n",
        "\n",
        "# --- Display Model Summary ---\n",
        "print(\"\\n--- Model Summary ---\")\n",
        "model.summary()"
      ],
      "metadata": {
        "colab": {
          "base_uri": "https://localhost:8080/",
          "height": 701
        },
        "id": "2GtJfeiUp9W0",
        "outputId": "ce09e4c1-6593-454a-9403-73a2cf422861"
      },
      "execution_count": 7,
      "outputs": [
        {
          "output_type": "stream",
          "name": "stdout",
          "text": [
            "--- Building the CNN Model ---\n"
          ]
        },
        {
          "output_type": "stream",
          "name": "stderr",
          "text": [
            "/usr/local/lib/python3.11/dist-packages/keras/src/layers/convolutional/base_conv.py:107: UserWarning: Do not pass an `input_shape`/`input_dim` argument to a layer. When using Sequential models, prefer using an `Input(shape)` object as the first layer in the model instead.\n",
            "  super().__init__(activity_regularizer=activity_regularizer, **kwargs)\n"
          ]
        },
        {
          "output_type": "stream",
          "name": "stdout",
          "text": [
            "\n",
            "--- Model Summary ---\n"
          ]
        },
        {
          "output_type": "display_data",
          "data": {
            "text/plain": [
              "\u001b[1mModel: \"COVID_XRay_Classifier\"\u001b[0m\n"
            ],
            "text/html": [
              "<pre style=\"white-space:pre;overflow-x:auto;line-height:normal;font-family:Menlo,'DejaVu Sans Mono',consolas,'Courier New',monospace\"><span style=\"font-weight: bold\">Model: \"COVID_XRay_Classifier\"</span>\n",
              "</pre>\n"
            ]
          },
          "metadata": {}
        },
        {
          "output_type": "display_data",
          "data": {
            "text/plain": [
              "┏━━━━━━━━━━━━━━━━━━━━━━━━━━━━━━━━━┳━━━━━━━━━━━━━━━━━━━━━━━━┳━━━━━━━━━━━━━━━┓\n",
              "┃\u001b[1m \u001b[0m\u001b[1mLayer (type)                   \u001b[0m\u001b[1m \u001b[0m┃\u001b[1m \u001b[0m\u001b[1mOutput Shape          \u001b[0m\u001b[1m \u001b[0m┃\u001b[1m \u001b[0m\u001b[1m      Param #\u001b[0m\u001b[1m \u001b[0m┃\n",
              "┡━━━━━━━━━━━━━━━━━━━━━━━━━━━━━━━━━╇━━━━━━━━━━━━━━━━━━━━━━━━╇━━━━━━━━━━━━━━━┩\n",
              "│ conv1_1 (\u001b[38;5;33mConv2D\u001b[0m)                │ (\u001b[38;5;45mNone\u001b[0m, \u001b[38;5;34m148\u001b[0m, \u001b[38;5;34m148\u001b[0m, \u001b[38;5;34m32\u001b[0m)   │           \u001b[38;5;34m896\u001b[0m │\n",
              "├─────────────────────────────────┼────────────────────────┼───────────────┤\n",
              "│ bn1_1 (\u001b[38;5;33mBatchNormalization\u001b[0m)      │ (\u001b[38;5;45mNone\u001b[0m, \u001b[38;5;34m148\u001b[0m, \u001b[38;5;34m148\u001b[0m, \u001b[38;5;34m32\u001b[0m)   │           \u001b[38;5;34m128\u001b[0m │\n",
              "├─────────────────────────────────┼────────────────────────┼───────────────┤\n",
              "│ pool1 (\u001b[38;5;33mMaxPooling2D\u001b[0m)            │ (\u001b[38;5;45mNone\u001b[0m, \u001b[38;5;34m74\u001b[0m, \u001b[38;5;34m74\u001b[0m, \u001b[38;5;34m32\u001b[0m)     │             \u001b[38;5;34m0\u001b[0m │\n",
              "├─────────────────────────────────┼────────────────────────┼───────────────┤\n",
              "│ conv2_1 (\u001b[38;5;33mConv2D\u001b[0m)                │ (\u001b[38;5;45mNone\u001b[0m, \u001b[38;5;34m74\u001b[0m, \u001b[38;5;34m74\u001b[0m, \u001b[38;5;34m64\u001b[0m)     │        \u001b[38;5;34m18,496\u001b[0m │\n",
              "├─────────────────────────────────┼────────────────────────┼───────────────┤\n",
              "│ bn2_1 (\u001b[38;5;33mBatchNormalization\u001b[0m)      │ (\u001b[38;5;45mNone\u001b[0m, \u001b[38;5;34m74\u001b[0m, \u001b[38;5;34m74\u001b[0m, \u001b[38;5;34m64\u001b[0m)     │           \u001b[38;5;34m256\u001b[0m │\n",
              "├─────────────────────────────────┼────────────────────────┼───────────────┤\n",
              "│ pool2 (\u001b[38;5;33mMaxPooling2D\u001b[0m)            │ (\u001b[38;5;45mNone\u001b[0m, \u001b[38;5;34m37\u001b[0m, \u001b[38;5;34m37\u001b[0m, \u001b[38;5;34m64\u001b[0m)     │             \u001b[38;5;34m0\u001b[0m │\n",
              "├─────────────────────────────────┼────────────────────────┼───────────────┤\n",
              "│ conv3_1 (\u001b[38;5;33mConv2D\u001b[0m)                │ (\u001b[38;5;45mNone\u001b[0m, \u001b[38;5;34m37\u001b[0m, \u001b[38;5;34m37\u001b[0m, \u001b[38;5;34m128\u001b[0m)    │        \u001b[38;5;34m73,856\u001b[0m │\n",
              "├─────────────────────────────────┼────────────────────────┼───────────────┤\n",
              "│ bn3_1 (\u001b[38;5;33mBatchNormalization\u001b[0m)      │ (\u001b[38;5;45mNone\u001b[0m, \u001b[38;5;34m37\u001b[0m, \u001b[38;5;34m37\u001b[0m, \u001b[38;5;34m128\u001b[0m)    │           \u001b[38;5;34m512\u001b[0m │\n",
              "├─────────────────────────────────┼────────────────────────┼───────────────┤\n",
              "│ pool3 (\u001b[38;5;33mMaxPooling2D\u001b[0m)            │ (\u001b[38;5;45mNone\u001b[0m, \u001b[38;5;34m18\u001b[0m, \u001b[38;5;34m18\u001b[0m, \u001b[38;5;34m128\u001b[0m)    │             \u001b[38;5;34m0\u001b[0m │\n",
              "├─────────────────────────────────┼────────────────────────┼───────────────┤\n",
              "│ flatten (\u001b[38;5;33mFlatten\u001b[0m)               │ (\u001b[38;5;45mNone\u001b[0m, \u001b[38;5;34m41472\u001b[0m)          │             \u001b[38;5;34m0\u001b[0m │\n",
              "├─────────────────────────────────┼────────────────────────┼───────────────┤\n",
              "│ dense1 (\u001b[38;5;33mDense\u001b[0m)                  │ (\u001b[38;5;45mNone\u001b[0m, \u001b[38;5;34m256\u001b[0m)            │    \u001b[38;5;34m10,617,088\u001b[0m │\n",
              "├─────────────────────────────────┼────────────────────────┼───────────────┤\n",
              "│ bn_dense1 (\u001b[38;5;33mBatchNormalization\u001b[0m)  │ (\u001b[38;5;45mNone\u001b[0m, \u001b[38;5;34m256\u001b[0m)            │         \u001b[38;5;34m1,024\u001b[0m │\n",
              "├─────────────────────────────────┼────────────────────────┼───────────────┤\n",
              "│ dropout1 (\u001b[38;5;33mDropout\u001b[0m)              │ (\u001b[38;5;45mNone\u001b[0m, \u001b[38;5;34m256\u001b[0m)            │             \u001b[38;5;34m0\u001b[0m │\n",
              "├─────────────────────────────────┼────────────────────────┼───────────────┤\n",
              "│ output (\u001b[38;5;33mDense\u001b[0m)                  │ (\u001b[38;5;45mNone\u001b[0m, \u001b[38;5;34m1\u001b[0m)              │           \u001b[38;5;34m257\u001b[0m │\n",
              "└─────────────────────────────────┴────────────────────────┴───────────────┘\n"
            ],
            "text/html": [
              "<pre style=\"white-space:pre;overflow-x:auto;line-height:normal;font-family:Menlo,'DejaVu Sans Mono',consolas,'Courier New',monospace\">┏━━━━━━━━━━━━━━━━━━━━━━━━━━━━━━━━━┳━━━━━━━━━━━━━━━━━━━━━━━━┳━━━━━━━━━━━━━━━┓\n",
              "┃<span style=\"font-weight: bold\"> Layer (type)                    </span>┃<span style=\"font-weight: bold\"> Output Shape           </span>┃<span style=\"font-weight: bold\">       Param # </span>┃\n",
              "┡━━━━━━━━━━━━━━━━━━━━━━━━━━━━━━━━━╇━━━━━━━━━━━━━━━━━━━━━━━━╇━━━━━━━━━━━━━━━┩\n",
              "│ conv1_1 (<span style=\"color: #0087ff; text-decoration-color: #0087ff\">Conv2D</span>)                │ (<span style=\"color: #00d7ff; text-decoration-color: #00d7ff\">None</span>, <span style=\"color: #00af00; text-decoration-color: #00af00\">148</span>, <span style=\"color: #00af00; text-decoration-color: #00af00\">148</span>, <span style=\"color: #00af00; text-decoration-color: #00af00\">32</span>)   │           <span style=\"color: #00af00; text-decoration-color: #00af00\">896</span> │\n",
              "├─────────────────────────────────┼────────────────────────┼───────────────┤\n",
              "│ bn1_1 (<span style=\"color: #0087ff; text-decoration-color: #0087ff\">BatchNormalization</span>)      │ (<span style=\"color: #00d7ff; text-decoration-color: #00d7ff\">None</span>, <span style=\"color: #00af00; text-decoration-color: #00af00\">148</span>, <span style=\"color: #00af00; text-decoration-color: #00af00\">148</span>, <span style=\"color: #00af00; text-decoration-color: #00af00\">32</span>)   │           <span style=\"color: #00af00; text-decoration-color: #00af00\">128</span> │\n",
              "├─────────────────────────────────┼────────────────────────┼───────────────┤\n",
              "│ pool1 (<span style=\"color: #0087ff; text-decoration-color: #0087ff\">MaxPooling2D</span>)            │ (<span style=\"color: #00d7ff; text-decoration-color: #00d7ff\">None</span>, <span style=\"color: #00af00; text-decoration-color: #00af00\">74</span>, <span style=\"color: #00af00; text-decoration-color: #00af00\">74</span>, <span style=\"color: #00af00; text-decoration-color: #00af00\">32</span>)     │             <span style=\"color: #00af00; text-decoration-color: #00af00\">0</span> │\n",
              "├─────────────────────────────────┼────────────────────────┼───────────────┤\n",
              "│ conv2_1 (<span style=\"color: #0087ff; text-decoration-color: #0087ff\">Conv2D</span>)                │ (<span style=\"color: #00d7ff; text-decoration-color: #00d7ff\">None</span>, <span style=\"color: #00af00; text-decoration-color: #00af00\">74</span>, <span style=\"color: #00af00; text-decoration-color: #00af00\">74</span>, <span style=\"color: #00af00; text-decoration-color: #00af00\">64</span>)     │        <span style=\"color: #00af00; text-decoration-color: #00af00\">18,496</span> │\n",
              "├─────────────────────────────────┼────────────────────────┼───────────────┤\n",
              "│ bn2_1 (<span style=\"color: #0087ff; text-decoration-color: #0087ff\">BatchNormalization</span>)      │ (<span style=\"color: #00d7ff; text-decoration-color: #00d7ff\">None</span>, <span style=\"color: #00af00; text-decoration-color: #00af00\">74</span>, <span style=\"color: #00af00; text-decoration-color: #00af00\">74</span>, <span style=\"color: #00af00; text-decoration-color: #00af00\">64</span>)     │           <span style=\"color: #00af00; text-decoration-color: #00af00\">256</span> │\n",
              "├─────────────────────────────────┼────────────────────────┼───────────────┤\n",
              "│ pool2 (<span style=\"color: #0087ff; text-decoration-color: #0087ff\">MaxPooling2D</span>)            │ (<span style=\"color: #00d7ff; text-decoration-color: #00d7ff\">None</span>, <span style=\"color: #00af00; text-decoration-color: #00af00\">37</span>, <span style=\"color: #00af00; text-decoration-color: #00af00\">37</span>, <span style=\"color: #00af00; text-decoration-color: #00af00\">64</span>)     │             <span style=\"color: #00af00; text-decoration-color: #00af00\">0</span> │\n",
              "├─────────────────────────────────┼────────────────────────┼───────────────┤\n",
              "│ conv3_1 (<span style=\"color: #0087ff; text-decoration-color: #0087ff\">Conv2D</span>)                │ (<span style=\"color: #00d7ff; text-decoration-color: #00d7ff\">None</span>, <span style=\"color: #00af00; text-decoration-color: #00af00\">37</span>, <span style=\"color: #00af00; text-decoration-color: #00af00\">37</span>, <span style=\"color: #00af00; text-decoration-color: #00af00\">128</span>)    │        <span style=\"color: #00af00; text-decoration-color: #00af00\">73,856</span> │\n",
              "├─────────────────────────────────┼────────────────────────┼───────────────┤\n",
              "│ bn3_1 (<span style=\"color: #0087ff; text-decoration-color: #0087ff\">BatchNormalization</span>)      │ (<span style=\"color: #00d7ff; text-decoration-color: #00d7ff\">None</span>, <span style=\"color: #00af00; text-decoration-color: #00af00\">37</span>, <span style=\"color: #00af00; text-decoration-color: #00af00\">37</span>, <span style=\"color: #00af00; text-decoration-color: #00af00\">128</span>)    │           <span style=\"color: #00af00; text-decoration-color: #00af00\">512</span> │\n",
              "├─────────────────────────────────┼────────────────────────┼───────────────┤\n",
              "│ pool3 (<span style=\"color: #0087ff; text-decoration-color: #0087ff\">MaxPooling2D</span>)            │ (<span style=\"color: #00d7ff; text-decoration-color: #00d7ff\">None</span>, <span style=\"color: #00af00; text-decoration-color: #00af00\">18</span>, <span style=\"color: #00af00; text-decoration-color: #00af00\">18</span>, <span style=\"color: #00af00; text-decoration-color: #00af00\">128</span>)    │             <span style=\"color: #00af00; text-decoration-color: #00af00\">0</span> │\n",
              "├─────────────────────────────────┼────────────────────────┼───────────────┤\n",
              "│ flatten (<span style=\"color: #0087ff; text-decoration-color: #0087ff\">Flatten</span>)               │ (<span style=\"color: #00d7ff; text-decoration-color: #00d7ff\">None</span>, <span style=\"color: #00af00; text-decoration-color: #00af00\">41472</span>)          │             <span style=\"color: #00af00; text-decoration-color: #00af00\">0</span> │\n",
              "├─────────────────────────────────┼────────────────────────┼───────────────┤\n",
              "│ dense1 (<span style=\"color: #0087ff; text-decoration-color: #0087ff\">Dense</span>)                  │ (<span style=\"color: #00d7ff; text-decoration-color: #00d7ff\">None</span>, <span style=\"color: #00af00; text-decoration-color: #00af00\">256</span>)            │    <span style=\"color: #00af00; text-decoration-color: #00af00\">10,617,088</span> │\n",
              "├─────────────────────────────────┼────────────────────────┼───────────────┤\n",
              "│ bn_dense1 (<span style=\"color: #0087ff; text-decoration-color: #0087ff\">BatchNormalization</span>)  │ (<span style=\"color: #00d7ff; text-decoration-color: #00d7ff\">None</span>, <span style=\"color: #00af00; text-decoration-color: #00af00\">256</span>)            │         <span style=\"color: #00af00; text-decoration-color: #00af00\">1,024</span> │\n",
              "├─────────────────────────────────┼────────────────────────┼───────────────┤\n",
              "│ dropout1 (<span style=\"color: #0087ff; text-decoration-color: #0087ff\">Dropout</span>)              │ (<span style=\"color: #00d7ff; text-decoration-color: #00d7ff\">None</span>, <span style=\"color: #00af00; text-decoration-color: #00af00\">256</span>)            │             <span style=\"color: #00af00; text-decoration-color: #00af00\">0</span> │\n",
              "├─────────────────────────────────┼────────────────────────┼───────────────┤\n",
              "│ output (<span style=\"color: #0087ff; text-decoration-color: #0087ff\">Dense</span>)                  │ (<span style=\"color: #00d7ff; text-decoration-color: #00d7ff\">None</span>, <span style=\"color: #00af00; text-decoration-color: #00af00\">1</span>)              │           <span style=\"color: #00af00; text-decoration-color: #00af00\">257</span> │\n",
              "└─────────────────────────────────┴────────────────────────┴───────────────┘\n",
              "</pre>\n"
            ]
          },
          "metadata": {}
        },
        {
          "output_type": "display_data",
          "data": {
            "text/plain": [
              "\u001b[1m Total params: \u001b[0m\u001b[38;5;34m10,712,513\u001b[0m (40.86 MB)\n"
            ],
            "text/html": [
              "<pre style=\"white-space:pre;overflow-x:auto;line-height:normal;font-family:Menlo,'DejaVu Sans Mono',consolas,'Courier New',monospace\"><span style=\"font-weight: bold\"> Total params: </span><span style=\"color: #00af00; text-decoration-color: #00af00\">10,712,513</span> (40.86 MB)\n",
              "</pre>\n"
            ]
          },
          "metadata": {}
        },
        {
          "output_type": "display_data",
          "data": {
            "text/plain": [
              "\u001b[1m Trainable params: \u001b[0m\u001b[38;5;34m10,711,553\u001b[0m (40.86 MB)\n"
            ],
            "text/html": [
              "<pre style=\"white-space:pre;overflow-x:auto;line-height:normal;font-family:Menlo,'DejaVu Sans Mono',consolas,'Courier New',monospace\"><span style=\"font-weight: bold\"> Trainable params: </span><span style=\"color: #00af00; text-decoration-color: #00af00\">10,711,553</span> (40.86 MB)\n",
              "</pre>\n"
            ]
          },
          "metadata": {}
        },
        {
          "output_type": "display_data",
          "data": {
            "text/plain": [
              "\u001b[1m Non-trainable params: \u001b[0m\u001b[38;5;34m960\u001b[0m (3.75 KB)\n"
            ],
            "text/html": [
              "<pre style=\"white-space:pre;overflow-x:auto;line-height:normal;font-family:Menlo,'DejaVu Sans Mono',consolas,'Courier New',monospace\"><span style=\"font-weight: bold\"> Non-trainable params: </span><span style=\"color: #00af00; text-decoration-color: #00af00\">960</span> (3.75 KB)\n",
              "</pre>\n"
            ]
          },
          "metadata": {}
        }
      ]
    },
    {
      "cell_type": "markdown",
      "source": [
        "# Step 7: Compile the Model\n",
        "This step configures the model for training by specifying the optimizer, the loss function, and the metrics to track."
      ],
      "metadata": {
        "id": "vPhgIW9SqaA3"
      }
    },
    {
      "cell_type": "code",
      "source": [
        "# Block 7: Compile the Model\n",
        "\n",
        "print(\"--- Compiling the Model ---\")\n",
        "\n",
        "# Define the optimizer (Adam is a good default choice)\n",
        "# A slightly lower learning rate can sometimes be beneficial for stability\n",
        "optimizer = tf.keras.optimizers.Adam(learning_rate=0.0005) # Experiment with learning rate (e.g., 0.001, 0.0001)\n",
        "\n",
        "# Define the loss function for binary classification\n",
        "loss_function = 'binary_crossentropy'\n",
        "\n",
        "# Define metrics to evaluate during training and testing\n",
        "metrics_to_track = ['accuracy'] # Can add others like Precision, Recall, AUC later\n",
        "\n",
        "# Compile the model\n",
        "model.compile(optimizer=optimizer,\n",
        "              loss=loss_function,\n",
        "              metrics=metrics_to_track)\n",
        "\n",
        "print(\"Model compiled successfully.\")\n",
        "print(f\"  Optimizer: {type(optimizer).__name__} (lr={optimizer.learning_rate.numpy():.1E})\") # Shows actual LR\n",
        "print(f\"  Loss Function: {loss_function}\")\n",
        "print(f\"  Metrics: {metrics_to_track}\")"
      ],
      "metadata": {
        "colab": {
          "base_uri": "https://localhost:8080/"
        },
        "id": "EHKwv-cjqbWR",
        "outputId": "e31f627e-c1dc-4612-ea98-a6c4fbec1897"
      },
      "execution_count": 9,
      "outputs": [
        {
          "output_type": "stream",
          "name": "stdout",
          "text": [
            "--- Compiling the Model ---\n",
            "Model compiled successfully.\n",
            "  Optimizer: Adam (lr=5.0E-04)\n",
            "  Loss Function: binary_crossentropy\n",
            "  Metrics: ['accuracy']\n"
          ]
        }
      ]
    },
    {
      "cell_type": "markdown",
      "source": [
        "# Step 8: Define Callbacks\n",
        "Callbacks are utilities that can be applied at certain stages of the model training process (e.g., at the end of each epoch). We'll use two common ones:\n",
        "\n",
        "*   EarlyStopping: To stop training automatically if the model's performance on the validation set stops improving, preventing overfitting and saving time.\n",
        "*   ReduceLROnPlateau: To automatically reduce the learning rate if the validation loss plateaus, which can help the model find a better minimum.\n",
        "\n",
        "\n",
        "\n",
        "\n"
      ],
      "metadata": {
        "id": "GSRMrRzoq-QE"
      }
    },
    {
      "cell_type": "code",
      "source": [
        "# Block 8: Define Callbacks\n",
        "\n",
        "from tensorflow.keras.callbacks import EarlyStopping, ReduceLROnPlateau\n",
        "\n",
        "print(\"--- Defining Callbacks ---\")\n",
        "\n",
        "# Early Stopping: Stop training when validation loss doesn't improve\n",
        "early_stopping = EarlyStopping(\n",
        "    monitor='val_loss',  # Monitor the validation loss\n",
        "    patience=10,         # Number of epochs with no improvement after which training will be stopped.\n",
        "    verbose=1,           # Print messages when stopping\n",
        "    restore_best_weights=True # Restore model weights from the epoch with the best val_loss.\n",
        ")\n",
        "\n",
        "# Reduce Learning Rate on Plateau: Reduce LR when validation loss stops improving\n",
        "reduce_lr = ReduceLROnPlateau(\n",
        "    monitor='val_loss',\n",
        "    factor=0.2,          # Factor by which the learning rate will be reduced (new_lr = lr * factor)\n",
        "    patience=5,          # Number of epochs with no improvement after which learning rate will be reduced.\n",
        "    verbose=1,           # Print messages when reducing LR\n",
        "    min_lr=1e-6          # Lower bound on the learning rate.\n",
        ")\n",
        "\n",
        "# Combine callbacks into a list\n",
        "callbacks_list = [early_stopping, reduce_lr]\n",
        "\n",
        "print(\"Callbacks defined:\")\n",
        "print(f\"- EarlyStopping (monitor='val_loss', patience={early_stopping.patience})\")\n",
        "print(f\"- ReduceLROnPlateau (monitor='val_loss', patience={reduce_lr.patience}, factor={reduce_lr.factor})\")"
      ],
      "metadata": {
        "colab": {
          "base_uri": "https://localhost:8080/"
        },
        "id": "eRP7VqP2rIJi",
        "outputId": "f57172f9-fb37-449f-90c1-70cbbe04939b"
      },
      "execution_count": 10,
      "outputs": [
        {
          "output_type": "stream",
          "name": "stdout",
          "text": [
            "--- Defining Callbacks ---\n",
            "Callbacks defined:\n",
            "- EarlyStopping (monitor='val_loss', patience=10)\n",
            "- ReduceLROnPlateau (monitor='val_loss', patience=5, factor=0.2)\n"
          ]
        }
      ]
    },
    {
      "cell_type": "markdown",
      "source": [
        "# Step 9: Train the Model\n",
        "This block starts the training process using the model.fit() method. We provide the training data generator, specify the number of epochs, provide the validation data generator, and include the callbacks we just defined. The training history (loss and accuracy over epochs) will be stored."
      ],
      "metadata": {
        "id": "KbWmHSlqrYUK"
      }
    },
    {
      "cell_type": "code",
      "source": [
        "# Block 9: Train the Model\n",
        "\n",
        "print(\"--- Starting Model Training ---\")\n",
        "\n",
        "# Train the model using the generators and callbacks\n",
        "history = model.fit(\n",
        "    train_generator,\n",
        "    epochs=EPOCHS,                      # Maximum number of epochs (defined in Block 2)\n",
        "    steps_per_epoch=train_steps_per_epoch, # Batches per training epoch (calculated in Block 5)\n",
        "    validation_data=test_generator,\n",
        "    validation_steps=test_steps_per_epoch, # Batches per validation epoch (calculated in Block 5)\n",
        "    callbacks=callbacks_list            # List of callbacks (EarlyStopping, ReduceLROnPlateau)\n",
        ")\n",
        "\n",
        "print(\"\\n--- Model Training Finished ---\")\n",
        "\n",
        "# Optional: Display the range of epochs actually run\n",
        "final_epoch = len(history.history['loss'])\n",
        "print(f\"Training stopped after {final_epoch} epochs.\")"
      ],
      "metadata": {
        "colab": {
          "base_uri": "https://localhost:8080/"
        },
        "id": "dyTvpXfyrXg0",
        "outputId": "a8dbf80c-ddc1-490d-ab77-f992449b202d"
      },
      "execution_count": 11,
      "outputs": [
        {
          "output_type": "stream",
          "name": "stdout",
          "text": [
            "--- Starting Model Training ---\n"
          ]
        },
        {
          "output_type": "stream",
          "name": "stderr",
          "text": [
            "/usr/local/lib/python3.11/dist-packages/keras/src/trainers/data_adapters/py_dataset_adapter.py:121: UserWarning: Your `PyDataset` class should call `super().__init__(**kwargs)` in its constructor. `**kwargs` can include `workers`, `use_multiprocessing`, `max_queue_size`. Do not pass these arguments to `fit()`, as they will be ignored.\n",
            "  self._warn_if_super_not_called()\n"
          ]
        },
        {
          "output_type": "stream",
          "name": "stdout",
          "text": [
            "Epoch 1/50\n",
            "\u001b[1m4/4\u001b[0m \u001b[32m━━━━━━━━━━━━━━━━━━━━\u001b[0m\u001b[37m\u001b[0m \u001b[1m20s\u001b[0m 3s/step - accuracy: 0.4710 - loss: 1.6700 - val_accuracy: 0.6333 - val_loss: 0.6685 - learning_rate: 5.0000e-04\n",
            "Epoch 2/50\n",
            "\u001b[1m4/4\u001b[0m \u001b[32m━━━━━━━━━━━━━━━━━━━━\u001b[0m\u001b[37m\u001b[0m \u001b[1m8s\u001b[0m 1s/step - accuracy: 0.5969 - loss: 1.0944 - val_accuracy: 0.5333 - val_loss: 0.6923 - learning_rate: 5.0000e-04\n",
            "Epoch 3/50\n",
            "\u001b[1m4/4\u001b[0m \u001b[32m━━━━━━━━━━━━━━━━━━━━\u001b[0m\u001b[37m\u001b[0m \u001b[1m5s\u001b[0m 1s/step - accuracy: 0.6378 - loss: 0.9768 - val_accuracy: 0.4000 - val_loss: 0.7087 - learning_rate: 5.0000e-04\n",
            "Epoch 4/50\n",
            "\u001b[1m4/4\u001b[0m \u001b[32m━━━━━━━━━━━━━━━━━━━━\u001b[0m\u001b[37m\u001b[0m \u001b[1m6s\u001b[0m 2s/step - accuracy: 0.5969 - loss: 1.0691 - val_accuracy: 0.6000 - val_loss: 0.6783 - learning_rate: 5.0000e-04\n",
            "Epoch 5/50\n",
            "\u001b[1m4/4\u001b[0m \u001b[32m━━━━━━━━━━━━━━━━━━━━\u001b[0m\u001b[37m\u001b[0m \u001b[1m5s\u001b[0m 1s/step - accuracy: 0.6490 - loss: 0.8680 - val_accuracy: 0.6333 - val_loss: 0.6547 - learning_rate: 5.0000e-04\n",
            "Epoch 6/50\n",
            "\u001b[1m4/4\u001b[0m \u001b[32m━━━━━━━━━━━━━━━━━━━━\u001b[0m\u001b[37m\u001b[0m \u001b[1m6s\u001b[0m 2s/step - accuracy: 0.5950 - loss: 0.9803 - val_accuracy: 0.6667 - val_loss: 0.6414 - learning_rate: 5.0000e-04\n",
            "Epoch 7/50\n",
            "\u001b[1m4/4\u001b[0m \u001b[32m━━━━━━━━━━━━━━━━━━━━\u001b[0m\u001b[37m\u001b[0m \u001b[1m9s\u001b[0m 1s/step - accuracy: 0.6102 - loss: 0.6945 - val_accuracy: 0.6667 - val_loss: 0.6390 - learning_rate: 5.0000e-04\n",
            "Epoch 8/50\n",
            "\u001b[1m4/4\u001b[0m \u001b[32m━━━━━━━━━━━━━━━━━━━━\u001b[0m\u001b[37m\u001b[0m \u001b[1m6s\u001b[0m 2s/step - accuracy: 0.6460 - loss: 0.6714 - val_accuracy: 0.6333 - val_loss: 0.6398 - learning_rate: 5.0000e-04\n",
            "Epoch 9/50\n",
            "\u001b[1m4/4\u001b[0m \u001b[32m━━━━━━━━━━━━━━━━━━━━\u001b[0m\u001b[37m\u001b[0m \u001b[1m9s\u001b[0m 1s/step - accuracy: 0.6261 - loss: 0.8357 - val_accuracy: 0.6333 - val_loss: 0.6413 - learning_rate: 5.0000e-04\n",
            "Epoch 10/50\n",
            "\u001b[1m4/4\u001b[0m \u001b[32m━━━━━━━━━━━━━━━━━━━━\u001b[0m\u001b[37m\u001b[0m \u001b[1m5s\u001b[0m 1s/step - accuracy: 0.5736 - loss: 0.7909 - val_accuracy: 0.6333 - val_loss: 0.6545 - learning_rate: 5.0000e-04\n",
            "Epoch 11/50\n",
            "\u001b[1m4/4\u001b[0m \u001b[32m━━━━━━━━━━━━━━━━━━━━\u001b[0m\u001b[37m\u001b[0m \u001b[1m10s\u001b[0m 2s/step - accuracy: 0.6480 - loss: 0.7934 - val_accuracy: 0.6333 - val_loss: 0.6789 - learning_rate: 5.0000e-04\n",
            "Epoch 12/50\n",
            "\u001b[1m4/4\u001b[0m \u001b[32m━━━━━━━━━━━━━━━━━━━━\u001b[0m\u001b[37m\u001b[0m \u001b[1m0s\u001b[0m 903ms/step - accuracy: 0.6375 - loss: 0.7388\n",
            "Epoch 12: ReduceLROnPlateau reducing learning rate to 0.00010000000474974513.\n",
            "\u001b[1m4/4\u001b[0m \u001b[32m━━━━━━━━━━━━━━━━━━━━\u001b[0m\u001b[37m\u001b[0m \u001b[1m9s\u001b[0m 1s/step - accuracy: 0.6434 - loss: 0.7302 - val_accuracy: 0.6333 - val_loss: 0.7039 - learning_rate: 5.0000e-04\n",
            "Epoch 13/50\n",
            "\u001b[1m4/4\u001b[0m \u001b[32m━━━━━━━━━━━━━━━━━━━━\u001b[0m\u001b[37m\u001b[0m \u001b[1m6s\u001b[0m 2s/step - accuracy: 0.7107 - loss: 0.6200 - val_accuracy: 0.6333 - val_loss: 0.6879 - learning_rate: 1.0000e-04\n",
            "Epoch 14/50\n",
            "\u001b[1m4/4\u001b[0m \u001b[32m━━━━━━━━━━━━━━━━━━━━\u001b[0m\u001b[37m\u001b[0m \u001b[1m11s\u001b[0m 2s/step - accuracy: 0.6631 - loss: 0.7014 - val_accuracy: 0.6333 - val_loss: 0.6694 - learning_rate: 1.0000e-04\n",
            "Epoch 15/50\n",
            "\u001b[1m4/4\u001b[0m \u001b[32m━━━━━━━━━━━━━━━━━━━━\u001b[0m\u001b[37m\u001b[0m \u001b[1m9s\u001b[0m 1s/step - accuracy: 0.7160 - loss: 0.6906 - val_accuracy: 0.6333 - val_loss: 0.6537 - learning_rate: 1.0000e-04\n",
            "Epoch 16/50\n",
            "\u001b[1m4/4\u001b[0m \u001b[32m━━━━━━━━━━━━━━━━━━━━\u001b[0m\u001b[37m\u001b[0m \u001b[1m6s\u001b[0m 1s/step - accuracy: 0.6235 - loss: 0.7627 - val_accuracy: 0.6667 - val_loss: 0.6472 - learning_rate: 1.0000e-04\n",
            "Epoch 17/50\n",
            "\u001b[1m4/4\u001b[0m \u001b[32m━━━━━━━━━━━━━━━━━━━━\u001b[0m\u001b[37m\u001b[0m \u001b[1m0s\u001b[0m 716ms/step - accuracy: 0.5925 - loss: 0.8047\n",
            "Epoch 17: ReduceLROnPlateau reducing learning rate to 2.0000000949949027e-05.\n",
            "\u001b[1m4/4\u001b[0m \u001b[32m━━━━━━━━━━━━━━━━━━━━\u001b[0m\u001b[37m\u001b[0m \u001b[1m4s\u001b[0m 1s/step - accuracy: 0.5914 - loss: 0.8127 - val_accuracy: 0.6667 - val_loss: 0.6471 - learning_rate: 1.0000e-04\n",
            "Epoch 17: early stopping\n",
            "Restoring model weights from the end of the best epoch: 7.\n",
            "\n",
            "--- Model Training Finished ---\n",
            "Training stopped after 17 epochs.\n"
          ]
        }
      ]
    },
    {
      "cell_type": "markdown",
      "source": [
        "# Step 10: Evaluate the Model and Plot History\n",
        "This block evaluates the final model (with weights restored from the best epoch) on the test set and then plots the training/validation accuracy and loss curves from the history object."
      ],
      "metadata": {
        "id": "uv_zxJc7sy3h"
      }
    },
    {
      "cell_type": "code",
      "source": [
        "# Block 10: Evaluate the Model and Plot History\n",
        "\n",
        "import matplotlib.pyplot as plt\n",
        "\n",
        "print(\"--- Evaluating Model on Test Set ---\")\n",
        "\n",
        "# Evaluate the model on the test generator\n",
        "# Uses the weights restored by EarlyStopping from the best epoch\n",
        "loss, accuracy = model.evaluate(test_generator,\n",
        "                                steps=test_steps_per_epoch, # Ensure evaluation covers the whole test set\n",
        "                                verbose=1)\n",
        "\n",
        "print(f\"\\nTest Loss: {loss:.4f}\")\n",
        "print(f\"Test Accuracy: {accuracy*100:.2f}%\") # Should match the best val_accuracy if restore_best_weights worked\n",
        "\n",
        "\n",
        "print(\"\\n--- Plotting Training History ---\")\n",
        "\n",
        "def plot_history(history):\n",
        "    \"\"\"Plots accuracy and loss curves for training and validation.\"\"\"\n",
        "    acc = history.history['accuracy']\n",
        "    val_acc = history.history['val_accuracy']\n",
        "    loss = history.history['loss']\n",
        "    val_loss = history.history['val_loss']\n",
        "\n",
        "    epochs_range = range(1, len(acc) + 1) # Start epoch range from 1\n",
        "\n",
        "    plt.figure(figsize=(14, 5))\n",
        "\n",
        "    # Plot Accuracy\n",
        "    plt.subplot(1, 2, 1)\n",
        "    plt.plot(epochs_range, acc, 'o-', label='Training Accuracy')\n",
        "    plt.plot(epochs_range, val_acc, 'o-', label='Validation Accuracy')\n",
        "    plt.axvline(early_stopping.best_epoch + 1, color='r', linestyle='--', label=f'Best Epoch ({early_stopping.best_epoch + 1})') # Add 1 because epoch count is 1-based\n",
        "    plt.legend(loc='best')\n",
        "    plt.title('Training and Validation Accuracy')\n",
        "    plt.xlabel('Epoch')\n",
        "    plt.ylabel('Accuracy')\n",
        "    plt.grid(True)\n",
        "\n",
        "    # Plot Loss\n",
        "    plt.subplot(1, 2, 2)\n",
        "    plt.plot(epochs_range, loss, 'o-', label='Training Loss')\n",
        "    plt.plot(epochs_range, val_loss, 'o-', label='Validation Loss')\n",
        "    plt.axvline(early_stopping.best_epoch + 1, color='r', linestyle='--', label=f'Best Epoch ({early_stopping.best_epoch + 1})')\n",
        "    plt.legend(loc='best')\n",
        "    plt.title('Training and Validation Loss')\n",
        "    plt.xlabel('Epoch')\n",
        "    plt.ylabel('Loss')\n",
        "    plt.grid(True)\n",
        "\n",
        "    plt.suptitle(f'Training History (Stopped early, best epoch: {early_stopping.best_epoch + 1})')\n",
        "    plt.tight_layout(rect=[0, 0.03, 1, 0.95]) # Adjust layout to prevent title overlap\n",
        "    plt.show()\n",
        "\n",
        "# Plot the history returned by model.fit()\n",
        "plot_history(history)"
      ],
      "metadata": {
        "colab": {
          "base_uri": "https://localhost:8080/",
          "height": 593
        },
        "id": "LZ1hoTYSsx9l",
        "outputId": "31d80566-90a6-4f5f-c2ab-0b0b28f2a37d"
      },
      "execution_count": 12,
      "outputs": [
        {
          "output_type": "stream",
          "name": "stdout",
          "text": [
            "--- Evaluating Model on Test Set ---\n",
            "\u001b[1m1/1\u001b[0m \u001b[32m━━━━━━━━━━━━━━━━━━━━\u001b[0m\u001b[37m\u001b[0m \u001b[1m1s\u001b[0m 1s/step - accuracy: 0.6667 - loss: 0.6390\n",
            "\n",
            "Test Loss: 0.6390\n",
            "Test Accuracy: 66.67%\n",
            "\n",
            "--- Plotting Training History ---\n"
          ]
        },
        {
          "output_type": "display_data",
          "data": {
            "text/plain": [
              "<Figure size 1400x500 with 2 Axes>"
            ],
            "image/png": "[encoded data removed]"
          },
          "metadata": {}
        }
      ]
    }
  ]
}